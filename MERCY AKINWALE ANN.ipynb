{
  "nbformat": 4,
  "nbformat_minor": 0,
  "metadata": {
    "colab": {
      "provenance": []
    },
    "kernelspec": {
      "name": "python3",
      "display_name": "Python 3"
    },
    "language_info": {
      "name": "python"
    }
  },
  "cells": [
    {
      "cell_type": "markdown",
      "source": [
        "# NAME: AKINWALE MERCY O\n",
        "# MATRIC: 22PBF02392\n",
        "# COURSE: CSC829"
      ],
      "metadata": {
        "id": "-HDcvAmJtMke"
      }
    },
    {
      "cell_type": "markdown",
      "source": [
        "# Libraries"
      ],
      "metadata": {
        "id": "pv2WHB1Vq16d"
      }
    },
    {
      "cell_type": "code",
      "source": [
        "import numpy as np\n",
        "np.random.seed(123)"
      ],
      "metadata": {
        "id": "szs2Uze6upRQ"
      },
      "execution_count": null,
      "outputs": []
    },
    {
      "cell_type": "markdown",
      "source": [
        "# Helper Functions"
      ],
      "metadata": {
        "id": "-5bIIcOkq5g5"
      }
    },
    {
      "cell_type": "code",
      "execution_count": null,
      "metadata": {
        "id": "ZeKcp41Ht9pU"
      },
      "outputs": [],
      "source": [
        "def sigmoid(z):\n",
        "    \"\"\"\n",
        "    Compute the sigmoid of z\n",
        "\n",
        "    Arguments:\n",
        "    z -- A scalar or numpy array of any size.\n",
        "\n",
        "    Return:\n",
        "    s -- sigmoid(z)\n",
        "    \"\"\"\n",
        "    s = 1 / (1 + np.exp(-z))\n",
        "    return s\n",
        "\n",
        "def softmax(values):\n",
        "    exp_values = np.exp(values)\n",
        "    return exp_values / exp_values.sum()\n",
        "\n",
        "\n",
        "def initialize_parameters(x, h, y):\n",
        "    \"\"\"\n",
        "    Argument:\n",
        "    x -- size of the input layer\n",
        "    h -- size of the hidden layer\n",
        "    y -- size of the output layer\n",
        "\n",
        "    Returns:\n",
        "    params -- python dictionary containing your parameters:\n",
        "                    W_hidden -- weight matrix of shape (h, x)\n",
        "                    b_hidden -- bias vector of shape (h, 1)\n",
        "                    W_output -- weight matrix of shape (y, h)\n",
        "                    b_output -- bias vector of shape (y, 1)\n",
        "    \"\"\"\n",
        "\n",
        "    W1 = np.random.randn(h, x)\n",
        "    b1 = np.zeros((h, 1))\n",
        "    W2 = np.random.randn(y, h)\n",
        "    b2 = np.zeros((y, 1))\n",
        "\n",
        "    parameters = {\"W_hidden\": W1,\n",
        "                  \"b_hidden\": b1,\n",
        "                  \"W_output\": W2,\n",
        "                  \"b_output\": b2}\n",
        "\n",
        "    return parameters\n",
        "\n",
        "\n",
        "def forward_propagation(X, parameters):\n",
        "    \"\"\"\n",
        "    Argument:\n",
        "    X -- input data of size (n_x, m)\n",
        "    parameters -- python dictionary containing your parameters (output of initialization function)\n",
        "\n",
        "    Returns:\n",
        "    A2 -- The sigmoid output of the second activation\n",
        "    cache -- a dictionary containing \"Z1\", \"A1\", \"Z2\" and \"A2\"\n",
        "    \"\"\"\n",
        "\n",
        "    W1 = parameters['W_hidden']\n",
        "    b1 = parameters['b_hidden']\n",
        "    W2 = parameters['W_output']\n",
        "    b2 = parameters['b_output']\n",
        "\n",
        "\n",
        "    Z1 = np.dot(W1,X) + b1\n",
        "    A1 = sigmoid(Z1)\n",
        "\n",
        "\n",
        "    Z2 = np.dot(W2,A1) + b2\n",
        "    A2 = softmax(Z2)\n",
        "\n",
        "    cache = {\"Z1\": Z1,\n",
        "             \"A1\": A1,\n",
        "             \"Z2\": Z2,\n",
        "             \"A2\": A2}\n",
        "\n",
        "    return A2 #, cache"
      ]
    },
    {
      "cell_type": "code",
      "source": [
        "# test\n",
        "sigmoid(0)"
      ],
      "metadata": {
        "colab": {
          "base_uri": "https://localhost:8080/"
        },
        "id": "wWEUMp7LukLM",
        "outputId": "6200a6b5-d29b-4b6b-e04a-d3ae185892aa"
      },
      "execution_count": null,
      "outputs": [
        {
          "output_type": "execute_result",
          "data": {
            "text/plain": [
              "0.5"
            ]
          },
          "metadata": {},
          "execution_count": 4
        }
      ]
    },
    {
      "cell_type": "markdown",
      "source": [
        "# Implementation"
      ],
      "metadata": {
        "id": "CmNhMRIsq-sv"
      }
    },
    {
      "cell_type": "code",
      "source": [
        "# Input features\n",
        "X  = np.array([[1, 22, 569, 35, 0],\n",
        "                [1, 7, 351, 75, 1],\n",
        "                [1, 45, 451, 542, 1],\n",
        "                [1, 5, 572, 8, 0],\n",
        "                [0, 22, 565, 44, 1],\n",
        "                [0, 24, 243, 546, 1],\n",
        "                [1, 78, 953, 42, 0],])\n",
        "X.shape"
      ],
      "metadata": {
        "colab": {
          "base_uri": "https://localhost:8080/"
        },
        "id": "8plkfBQHrErf",
        "outputId": "81eb5f5b-6408-4607-aea5-69ea49d6c599"
      },
      "execution_count": null,
      "outputs": [
        {
          "output_type": "execute_result",
          "data": {
            "text/plain": [
              "(7, 5)"
            ]
          },
          "metadata": {},
          "execution_count": 5
        }
      ]
    },
    {
      "cell_type": "code",
      "source": [
        "# Randomise weights and bias of the model\n",
        "x, h, y = 5, 4, 3\n",
        "parameters = initialize_parameters(x, h, y)\n",
        "\n",
        "print(\"W1 = \" + str(parameters[\"W_hidden\"]))\n",
        "print(\"b1 = \" + str(parameters[\"b_hidden\"]))\n",
        "print(\"W2 = \" + str(parameters[\"W_output\"]))\n",
        "print(\"b2 = \" + str(parameters[\"b_output\"]))\n"
      ],
      "metadata": {
        "colab": {
          "base_uri": "https://localhost:8080/"
        },
        "id": "JU1xJsdRvF_k",
        "outputId": "ddfbe877-6838-41a8-ab3a-b78d9770df11"
      },
      "execution_count": null,
      "outputs": [
        {
          "output_type": "stream",
          "name": "stdout",
          "text": [
            "W1 = [[-1.0856306   0.99734545  0.2829785  -1.50629471 -0.57860025]\n",
            " [ 1.65143654 -2.42667924 -0.42891263  1.26593626 -0.8667404 ]\n",
            " [-0.67888615 -0.09470897  1.49138963 -0.638902   -0.44398196]\n",
            " [-0.43435128  2.20593008  2.18678609  1.0040539   0.3861864 ]]\n",
            "b1 = [[0.]\n",
            " [0.]\n",
            " [0.]\n",
            " [0.]]\n",
            "W2 = [[ 0.73736858  1.49073203 -0.93583387  1.17582904]\n",
            " [-1.25388067 -0.6377515   0.9071052  -1.4286807 ]\n",
            " [-0.14006872 -0.8617549  -0.25561937 -2.79858911]]\n",
            "b2 = [[0.]\n",
            " [0.]\n",
            " [0.]]\n"
          ]
        }
      ]
    },
    {
      "cell_type": "code",
      "source": [
        "for row in X:\n",
        "    inputs_to_nn = row.reshape(-1, 1)\n",
        "    output = forward_propagation(inputs_to_nn, parameters)\n",
        "    print(output)\n",
        "    print()"
      ],
      "metadata": {
        "colab": {
          "base_uri": "https://localhost:8080/"
        },
        "id": "ZqyqQrLX288L",
        "outputId": "38ad3406-7537-44e7-c832-1806bd746d89"
      },
      "execution_count": null,
      "outputs": [
        {
          "output_type": "stream",
          "name": "stdout",
          "text": [
            "[[0.92663397]\n",
            " [0.05907092]\n",
            " [0.01429511]]\n",
            "\n",
            "[[0.66498296]\n",
            " [0.310353  ]\n",
            " [0.02466403]]\n",
            "\n",
            "[[0.94419578]\n",
            " [0.05247198]\n",
            " [0.00333223]]\n",
            "\n",
            "[[0.92663397]\n",
            " [0.05907092]\n",
            " [0.01429511]]\n",
            "\n",
            "[[0.92663397]\n",
            " [0.05907092]\n",
            " [0.01429511]]\n",
            "\n",
            "[[0.9441976 ]\n",
            " [0.05247021]\n",
            " [0.0033322 ]]\n",
            "\n",
            "[[0.92663397]\n",
            " [0.05907092]\n",
            " [0.01429511]]\n",
            "\n"
          ]
        },
        {
          "output_type": "stream",
          "name": "stderr",
          "text": [
            "<ipython-input-3-c83d6a8f8dfa>:11: RuntimeWarning: overflow encountered in exp\n",
            "  s = 1 / (1 + np.exp(-z))\n"
          ]
        }
      ]
    },
    {
      "cell_type": "code",
      "source": [],
      "metadata": {
        "id": "23T6w3Pd_lfb"
      },
      "execution_count": null,
      "outputs": []
    }
  ]
}